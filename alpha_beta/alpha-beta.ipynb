{
 "cells": [
  {
   "cell_type": "markdown",
   "metadata": {
    "collapsed": true,
    "pycharm": {
     "name": "#%% md\n"
    }
   },
   "source": [
    "# Minimax and alpha-beta pruning\n",
    "\n",
    "In this notebook we will find explanations and implementations of two search space exploration algorithms: minimax and alpha-beta pruning."
   ]
  },
  {
   "cell_type": "markdown",
   "metadata": {},
   "source": [
    "## Mini-max\n",
    "\n",
    "This algorithm provides a way to make the best decision in worst case scenarios for [zero-sum games](https://en.wikipedia.org/wiki/Zero-sum_game). The purpose of this algorithm is to **mini**mize the loss among the **max**imum _loss_ scenarios, in other words, it assumes the other player will make the best decision possible. Another way to think about this is maximizing the _gain_ amongst the minimum gain scenarios by the opponent. In order to implement this algorithm we must consider the following:\n",
    "\n",
    "1. **maximizing/minimizing player**: The algorithm constructs a search space in the form of a tree, each level of the tree corresponds to the possible moves of only one player, that may be maximizing (oponent) or minimizing (player)\n",
    "2. **loss**: This is a numerical value that represents an evaluation of the games state, this value is dependent on which players (maximizing or minimizing) turn is being evaluated.\n",
    "\n",
    "Below is an image of a tree constructed by the minimax algorithm (in this tree we maximize the gain):\n",
    "\n",
    "![tree](resources/minimax-tree.png)\n",
    "\n",
    "Here we can see that the player running the algorithm is maximizing his gain. -7 is chosen over -10 as it is the maximum of the two moves that result of the oponent maximizing his own gain (minimizing the heuristic), hence why in the minimizing level the oponent player choses -7 over 5.\n",
    "\n",
    "For a simple implementation of this algorithm we will implement a recursive algorithm that will produce the search space in the form of a recursion tree, in which each level of the tree will use a variable to determine which players (maximizing/minimizing) turn it is, this will impact how we calculate the loss.\n",
    "\n",
    "\n"
   ]
  },
  {
   "cell_type": "code",
   "execution_count": 1,
   "metadata": {
    "pycharm": {
     "is_executing": false,
     "name": "#%%\n"
    }
   },
   "outputs": [],
   "source": [
    "def is_game_over(node):\n",
    "    winning_indexes = [[0, 1, 2], [3, 4, 5], [6, 7, 8], [0, 3, 6], [1, 4, 7], [2, 5, 8], [0, 4, 8], [2, 4, 6]]\n",
    "\n",
    "    for indexes in winning_indexes:\n",
    "        hit_count = 0\n",
    "        chosen_symbol = node[indexes[0]]\n",
    "\n",
    "        for index in indexes:\n",
    "            if node[index] is not None and node[index] == chosen_symbol:\n",
    "                hit_count = hit_count + 1\n",
    "\n",
    "        if hit_count == 3:\n",
    "            return True, chosen_symbol\n",
    "\n",
    "    if node.count(None) == 0:\n",
    "        return True, None\n",
    "\n",
    "    return False, None\n",
    "\n",
    "def generate_children(node, chosen_symbol):\n",
    "    pass\n",
    "\n",
    "def alternate_symbol(symbol):\n",
    "    return 'o' if symbol == 'x' else 'x'\n",
    "\n",
    "def mini_max(node, is_maximizing_player_turn, chosen_symbol):\n",
    "    game_result = is_game_over(node)\n",
    "\n",
    "    if game_result[0]:\n",
    "        if game_result[1] is None:\n",
    "            return 0, node\n",
    "\n",
    "        return (-1, node) if is_maximizing_player_turn else (1, node)\n",
    "\n",
    "    children = generate_children(node, chosen_symbol)\n",
    "    children_results = list(map(\n",
    "        lambda child: [\n",
    "            mini_max(child, not is_maximizing_player_turn, alternate_symbol(chosen_symbol))[0],\n",
    "            child\n",
    "        ],\n",
    "        children\n",
    "    ))\n",
    "\n",
    "    return max(children_results, key=str) if is_maximizing_player_turn else min(children_results, key=str)"
   ]
  },
  {
   "cell_type": "markdown",
   "metadata": {
    "pycharm": {
     "name": "#%% md\n"
    }
   },
   "source": [
    "## Alpha-beta pruning\n",
    "\n",
    "Minimax is a very useful algorithm, however, the creation of the full tree is not entirely necessary, this is because some subtrees in a turn can be guaranteed to produce a less optimal outcome for a player by just evaluating one or some of the terminal nodes. An example can be seen below:\n",
    "\n",
    "![Alpha-beta Tree](resources/alpha-beta-tree.png)\n",
    "\n",
    "The nodes marked with a question mark are not evaluated. The following process leads to this tree:\n",
    "\n",
    "1. The left subtree is evaluated with a result of 3 for the black player\n",
    "2. The first terminal node of the right subtree is 1 for the white player\n",
    "3. The parent node of the 1 does not need to evaluate the next node, given that the white player already has a higher score than 1 (3), so the black player wont chose any other value of the node that isn't <= 1 (remember the black player is minimizing the score)\n",
    "4. The black player node is guaranteed to be <= 1 so it takes that value\n",
    "5. The next two white nodes are evaluated as 5 and 2 (2 cannot be pruned, since 5 would be a better outcome for white, so it must evaluate more nodes) and the black player takes a value of 2\n",
    "6. The white player takes the value of two\n",
    "7. Since 2 is already a lower score than 3, black need not evaluate more nodes, as the result is guaranteed to be <= 2\n",
    "8. White chooses 3\n",
    "\n",
    "A video explanation follows (minute 5:13):"
   ]
  },
  {
   "cell_type": "code",
   "execution_count": 2,
   "metadata": {
    "pycharm": {
     "is_executing": false,
     "name": "#%%\n"
    }
   },
   "outputs": [
    {
     "output_type": "execute_result",
     "data": {
      "text/plain": "<IPython.lib.display.YouTubeVideo at 0x105958e50>",
      "text/html": "\n        <iframe\n            width=\"400\"\n            height=\"300\"\n            src=\"https://www.youtube.com/embed/l-hh51ncgDI\"\n            frameborder=\"0\"\n            allowfullscreen\n        ></iframe>\n        ",
      "image/jpeg": "[encoded data removed]"
     },
     "metadata": {},
     "execution_count": 2
    }
   ],
   "source": [
    "from IPython.display import YouTubeVideo\n",
    "\n",
    "YouTubeVideo(\"l-hh51ncgDI\")"
   ]
  },
  {
   "cell_type": "markdown",
   "metadata": {
    "pycharm": {
     "name": "#%% md\n"
    }
   },
   "source": [
    "## Execise: Alpha-beta pruning your tic-tac-toe\n",
    "\n",
    "```\n",
    "Integrante 1: <>\n",
    "Integrante 2: <>\n",
    "```\n",
    "\n",
    "Your task is to modify the algorithm provided above with the necessary conditions for alpha beta pruning to occur. You must also then modify the game in order for the machine turn to use your algorithm. Creating the algorithm must also involve generating the possible states of the game. In order to complete this, you must clone this repository, fill in the `TODO` comments in the `tic_tac_toe.py` and `alpha_beta.py` files and send me the link to a fork of this repo where your solution lies."
   ]
  }
 ],
 "metadata": {
  "kernelspec": {
   "display_name": "Python 3",
   "language": "python",
   "name": "python3"
  },
  "language_info": {
   "codemirror_mode": {
    "name": "ipython",
    "version": 3
   },
   "file_extension": ".py",
   "mimetype": "text/x-python",
   "name": "python",
   "nbconvert_exporter": "python",
   "pygments_lexer": "ipython3",
   "version": "3.7.6-final"
  },
  "pycharm": {
   "stem_cell": {
    "cell_type": "raw",
    "source": [],
    "metadata": {
     "collapsed": false
    }
   }
  }
 },
 "nbformat": 4,
 "nbformat_minor": 1
}