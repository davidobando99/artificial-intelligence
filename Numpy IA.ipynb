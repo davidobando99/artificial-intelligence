{
 "cells": [
  {
   "cell_type": "code",
   "execution_count": 11,
   "metadata": {},
   "outputs": [],
   "source": [
    "import numpy as np"
   ]
  },
  {
   "cell_type": "code",
   "execution_count": 18,
   "metadata": {},
   "outputs": [
    {
     "name": "stdout",
     "output_type": "stream",
     "text": [
      "2\n",
      "(2, 3)\n"
     ]
    }
   ],
   "source": [
    "points_3d = np.array([\n",
    "    [1,2,3],\n",
    "    [0,3,2]\n",
    "])\n",
    "\n",
    "print(points_3d.ndim)\n",
    "print(points_3d.shape)"
   ]
  },
  {
   "cell_type": "code",
   "execution_count": 25,
   "metadata": {},
   "outputs": [
    {
     "name": "stdout",
     "output_type": "stream",
     "text": [
      "[[[1 2]\n",
      "  [4 3]]\n",
      "\n",
      " [[0 3]\n",
      "  [5 6]]]\n",
      "3\n",
      "(2, 2, 2)\n",
      "8\n",
      "int32\n"
     ]
    }
   ],
   "source": [
    "points_3d = np.array([\n",
    "    [[1,2],[4,3]],\n",
    "    [[0,3],[5,6]]\n",
    "])\n",
    "\n",
    "def describe_nad(ndar):\n",
    "    print(ndar)\n",
    "    print(ndar.ndim)\n",
    "    print(ndar.shape)\n",
    "    print(ndar.size)\n",
    "    print(ndar.dtype.name)\n",
    "    \n",
    "describe_nad(points_3d)"
   ]
  },
  {
   "cell_type": "code",
   "execution_count": 27,
   "metadata": {},
   "outputs": [
    {
     "name": "stdout",
     "output_type": "stream",
     "text": [
      "[1 2 3]\n",
      "1\n",
      "(3,)\n",
      "3\n",
      "int32\n",
      "[list([1, 2, 3]) list([4, 5, 6, 7, 8])]\n",
      "1\n",
      "(2,)\n",
      "2\n",
      "object\n"
     ]
    }
   ],
   "source": [
    "arr = np.array([1,2,3])\n",
    "describe_nad(arr)\n",
    "\n",
    "lists = np.array([[1,2,3],[4,5,6,7,8]])\n",
    "describe_nad(lists)"
   ]
  },
  {
   "cell_type": "code",
   "execution_count": 28,
   "metadata": {},
   "outputs": [
    {
     "name": "stdout",
     "output_type": "stream",
     "text": [
      "[[0. 0. 0.]\n",
      " [0. 0. 0.]]\n",
      "2\n",
      "(2, 3)\n",
      "6\n",
      "float64\n",
      "[[1. 1. 1.]\n",
      " [1. 1. 1.]]\n",
      "2\n",
      "(2, 3)\n",
      "6\n",
      "float64\n"
     ]
    }
   ],
   "source": [
    "zeros = np.zeros((2,3))\n",
    "describe_nad(zeros)\n",
    "\n",
    "ones = np.ones((2,3))\n",
    "describe_nad(ones)"
   ]
  },
  {
   "cell_type": "code",
   "execution_count": 29,
   "metadata": {},
   "outputs": [
    {
     "name": "stdout",
     "output_type": "stream",
     "text": [
      "[2.  2.5 3.  3.5 4.  4.5 5.  5.5 6.  6.5 7.  7.5 8.  8.5 9.  9.5]\n"
     ]
    }
   ],
   "source": [
    "ar0 = np.arange(2,10,0.5)\n",
    "print(ar0)"
   ]
  },
  {
   "cell_type": "markdown",
   "metadata": {},
   "source": [
    "lin = np.linspace(0,1,10)\n",
    "print(lin)\n",
    "\n",
    "reshap0 = lin.reshap(2,5)\n",
    "print(reshap0)"
   ]
  },
  {
   "cell_type": "code",
   "execution_count": 44,
   "metadata": {},
   "outputs": [
    {
     "name": "stdout",
     "output_type": "stream",
     "text": [
      "[0.         0.11111111 0.22222222 0.33333333 0.44444444 0.55555556\n",
      " 0.66666667 0.77777778 0.88888889 1.        ]\n",
      "[[0.         0.11111111]\n",
      " [0.22222222 0.33333333]\n",
      " [0.44444444 0.55555556]\n",
      " [0.66666667 0.77777778]\n",
      " [0.88888889 1.        ]]\n"
     ]
    }
   ],
   "source": [
    "lin = np.linspace(0,1,10) \n",
    "print(lin)\n",
    "\n",
    "reshap0 = lin.reshape(5,2) \n",
    "print(reshap0)"
   ]
  },
  {
   "cell_type": "code",
   "execution_count": 39,
   "metadata": {},
   "outputs": [
    {
     "name": "stdout",
     "output_type": "stream",
     "text": [
      "[1 2 4 3 0 3 5 6]\n",
      "[[1 2 4 3]\n",
      " [0 3 5 6]]\n",
      "[[1 0]\n",
      " [2 3]\n",
      " [4 5]\n",
      " [3 6]]\n"
     ]
    }
   ],
   "source": [
    "arr = np.array([\n",
    "    [1,2,4,3],\n",
    "    [0,3,5,6]\n",
    "])\n",
    "\n",
    "flat = arr.ravel()\n",
    "print(flat)\n",
    "\n",
    "print(arr)\n",
    "transpose = arr.T\n",
    "print(transpose)"
   ]
  },
  {
   "cell_type": "code",
   "execution_count": 46,
   "metadata": {},
   "outputs": [
    {
     "name": "stdout",
     "output_type": "stream",
     "text": [
      "[[ 0  1  2  3]\n",
      " [ 4  5  6  7]\n",
      " [ 8  9 10 11]\n",
      " [12 13 14 15]]\n"
     ]
    }
   ],
   "source": [
    "x = np.arange(16).reshape(4,4)\n",
    "print(x)"
   ]
  },
  {
   "cell_type": "code",
   "execution_count": 48,
   "metadata": {},
   "outputs": [
    {
     "name": "stdout",
     "output_type": "stream",
     "text": [
      "Single value 5\n",
      "Row value [4 5 6 7]\n",
      "Column value [ 1  5  9 13]\n",
      "Row values [[ 5  6]\n",
      " [ 9 10]]\n"
     ]
    }
   ],
   "source": [
    "print(f\"Single value {x[1,1]}\")\n",
    "print(f\"Row value {x[1,:]}\")\n",
    "print(f\"Column value {x[:,1]}\")\n",
    "print(f\"Row values {x[1:3,1:3]}\")"
   ]
  },
  {
   "cell_type": "code",
   "execution_count": 51,
   "metadata": {},
   "outputs": [
    {
     "name": "stdout",
     "output_type": "stream",
     "text": [
      "[[[21 22]\n",
      "  [25 26]]\n",
      "\n",
      " [[37 38]\n",
      "  [41 42]]]\n"
     ]
    }
   ],
   "source": [
    "A= np.arange(4**3).reshape(4,4,4)\n",
    "print(A[1:3,1:3,1:3])"
   ]
  },
  {
   "cell_type": "code",
   "execution_count": 55,
   "metadata": {},
   "outputs": [
    {
     "name": "stdout",
     "output_type": "stream",
     "text": [
      "[0 1 2 3 4] [5 6 7 8 9]\n",
      "[ 0  6 14 24 36]\n",
      "[False False False  True  True]\n"
     ]
    }
   ],
   "source": [
    "a = np.arange(5)\n",
    "b = np.arange(5,10)\n",
    "\n",
    "print(a, b)\n",
    "print(a*b)\n",
    "print(a>2)"
   ]
  },
  {
   "cell_type": "code",
   "execution_count": 57,
   "metadata": {},
   "outputs": [
    {
     "name": "stdout",
     "output_type": "stream",
     "text": [
      "[[ 6]\n",
      " [14]\n",
      " [22]]\n"
     ]
    }
   ],
   "source": [
    "A = np.array([\n",
    "    [1,2],\n",
    "    [3,4],\n",
    "    [5,6]\n",
    "])\n",
    "\n",
    "B= np.array([\n",
    "    [2],\n",
    "    [2]\n",
    "]\n",
    ")\n",
    "print(A @ B)"
   ]
  },
  {
   "cell_type": "code",
   "execution_count": 58,
   "metadata": {
    "scrolled": false
   },
   "outputs": [
    {
     "name": "stdout",
     "output_type": "stream",
     "text": [
      "[[[ 0.29582384  0.79684243]\n",
      "  [ 1.341853    1.88858657]\n",
      "  [ 1.92385999 -0.85020788]]\n",
      "\n",
      " [[-1.10068203 -1.31002941]\n",
      "  [-0.75852777  0.39073697]\n",
      "  [ 1.15845729  0.10736691]]\n",
      "\n",
      " [[-0.16188862 -0.43851888]\n",
      "  [-0.85814996  0.20212751]\n",
      "  [ 0.38840603  1.24250181]]]\n"
     ]
    }
   ],
   "source": [
    "npa = np.random.normal(size=18).reshape(3,3,2)\n",
    "print(npa)"
   ]
  },
  {
   "cell_type": "markdown",
   "metadata": {},
   "source": []
  },
  {
   "cell_type": "code",
   "execution_count": 65,
   "metadata": {},
   "outputs": [
    {
     "name": "stdout",
     "output_type": "stream",
     "text": [
      "Max 1.9238599947011366\n",
      "Max [[1.92385999 1.88858657]\n",
      " [1.15845729 0.39073697]\n",
      " [0.38840603 1.24250181]]\n",
      "Max [[ 0.79684243  1.88858657  1.92385999]\n",
      " [-1.10068203  0.39073697  1.15845729]\n",
      " [-0.16188862  0.20212751  1.24250181]]\n",
      "Max [[0.29582384 0.79684243]\n",
      " [1.341853   1.88858657]\n",
      " [1.92385999 1.24250181]]\n"
     ]
    }
   ],
   "source": [
    "print(f\"Max {npa.max()}\")\n",
    "print(f\"Max {npa.max(axis=1)}\") ##el axis 2 escoge el maximo entre cada columnag\n",
    "print(f\"Max {npa.max(axis=2)}\") ##el axis 2 escoge el maximo entre cada fila\n",
    "print(f\"Max {npa.max(axis=0)}\")  ##el axis 0 escoge el maximo entre cada indice"
   ]
  }
 ],
 "metadata": {
  "kernelspec": {
   "display_name": "Python 3",
   "language": "python",
   "name": "python3"
  },
  "language_info": {
   "codemirror_mode": {
    "name": "ipython",
    "version": 3
   },
   "file_extension": ".py",
   "mimetype": "text/x-python",
   "name": "python",
   "nbconvert_exporter": "python",
   "pygments_lexer": "ipython3",
   "version": "3.6.4"
  }
 },
 "nbformat": 4,
 "nbformat_minor": 4
}
