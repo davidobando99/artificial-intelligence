{
  "nbformat": 4,
  "nbformat_minor": 0,
  "metadata": {
    "colab": {
      "name": "knapsack-exercise.ipynb",
      "provenance": [],
      "collapsed_sections": []
    },
    "kernelspec": {
      "name": "python3",
      "display_name": "Python 3"
    }
  },
  "cells": [
    {
      "cell_type": "markdown",
      "metadata": {
        "id": "Z77R-epE0yaH",
        "colab_type": "text"
      },
      "source": [
        "# Knapsack problem\n",
        "\n",
        "Given a list of items and a bag maximum capacity, find the best combination of items.\n",
        "\n",
        "The algorithm to complete:"
      ]
    },
    {
      "cell_type": "code",
      "metadata": {
        "id": "Iqigakkn0hXE",
        "colab_type": "code",
        "colab": {}
      },
      "source": [
        "import random\n",
        "import math\n",
        "\n",
        "class KnapsackGenetic:\n",
        "  def __init__(self, params):\n",
        "    self.ALL_NUMBERS = list(range(params[\"max_per_item\"] + 1))\n",
        "    self.params = params\n",
        "    self.specimen = [None] * self.params[\"generation_size\"]\n",
        "\n",
        "    self.create_initial_population()\n",
        "\n",
        "  def create_initial_population(self):\n",
        "    self.specimen = list(map(\n",
        "        lambda _: list(map(\n",
        "            lambda _: random.choice(self.ALL_NUMBERS),\n",
        "            [None] * len(self.params[\"items\"])\n",
        "        )),\n",
        "        self.specimen\n",
        "    ))\n",
        "\n",
        "  def fitness(self, specimen):\n",
        "    # Use params: self.params[\"max_weight\"] to check the max weight of the specimen\n",
        "    # Use params: self.params[\"items\"]\n",
        "    pass\n",
        "\n",
        "  def is_converged(self):\n",
        "    if any(self.fitness(specimen) >= self.params[\"fit_threshold\"] for specimen in self.specimen):\n",
        "      return True\n",
        "\n",
        "    return False\n",
        "\n",
        "  def get_fit(self):\n",
        "    evaluations = self.fitness_all()\n",
        "\n",
        "    max_evaluation = max(evaluations)\n",
        "\n",
        "    max_index = evaluations.index(max_evaluation)\n",
        "\n",
        "    return self.specimen[max_index], max_evaluation\n",
        "\n",
        "  def fitness_all(self):\n",
        "    return list(map(self.fitness, self.specimen))\n",
        "\n",
        "  def select_specimen(self, specimen_evaluations):\n",
        "    specimen_and_evaluations = list(zip(self.specimen, specimen_evaluations))\n",
        "\n",
        "    specimen_and_evaluations.sort(key=lambda e: e[1], reverse = True)\n",
        "\n",
        "    n_top = int(math.ceil(len(self.specimen) * params[\"select_top\"]))\n",
        "\n",
        "    return list(map(lambda s: s[0], specimen_and_evaluations[:n_top]))\n",
        "  \n",
        "  def mutate(self, specimen):\n",
        "    # Use parameter: self.params[\"max_per_item\"] to check maximum for gene\n",
        "    # Use parameter: self.params[\"mutation_percentage\"]\n",
        "    pass\n",
        "\n",
        "  def generate_children(self, selected_specimen):  \n",
        "    mutated_specimen = [None] * len(self.specimen)\n",
        "\n",
        "    for i in range(len(mutated_specimen)):\n",
        "      mutated_specimen[i] = self.mutate(random.choice(selected_specimen))\n",
        "\n",
        "    return mutated_specimen\n",
        "\n",
        "  def run(self):\n",
        "    generation_number = 1\n",
        "\n",
        "    while generation_number <= self.params[\"max_generations\"] and not self.is_converged():\n",
        "      top_generation = self.get_fit()\n",
        "      top_str = \"\".join(str(top_generation[0]))\n",
        "      \n",
        "      print(f\"Generation #{generation_number}:\\t{top_str}\\t{top_generation[1]}\")\n",
        "\n",
        "      specimen_evaluations = self.fitness_all()\n",
        "      selected_specimen = self.select_specimen(specimen_evaluations)\n",
        "      \n",
        "      self.specimen = self.generate_children(selected_specimen)\n",
        "      \n",
        "      generation_number += 1\n",
        "    \n",
        "    return self.get_fit()"
      ],
      "execution_count": 0,
      "outputs": []
    },
    {
      "cell_type": "markdown",
      "metadata": {
        "id": "hnHAziSc1ChK",
        "colab_type": "text"
      },
      "source": [
        "To run the algorithm:"
      ]
    },
    {
      "cell_type": "code",
      "metadata": {
        "id": "_ssF5Z6S1FQ6",
        "colab_type": "code",
        "colab": {
          "base_uri": "https://localhost:8080/",
          "height": 349
        },
        "outputId": "6e48c80f-4ed7-49f3-e872-150e3198fab0"
      },
      "source": [
        "class Item:\n",
        "  def __init__(self, value, weight):\n",
        "    self.value = value\n",
        "    self.weight = weight\n",
        "\n",
        "params = {\n",
        "    \"mutation_percentage\": 0,\n",
        "    \"select_top\": 0,\n",
        "    \"generation_size\": 0,\n",
        "    \"fit_threshold\": 0,\n",
        "    \"max_generations\": 0,\n",
        "    \"max_weight\": 0,\n",
        "    \"max_per_item\": 0,\n",
        "    \"items\": [Item(4, 12), Item(2, 2), Item(2, 1), Item(1, 1), Item(10,4)]\n",
        "}\n",
        "\n",
        "knapsack = KnapsackGenetic(params)\n",
        "knapsack.run()\n"
      ],
      "execution_count": 2,
      "outputs": [
        {
          "output_type": "error",
          "ename": "ValueError",
          "evalue": "ignored",
          "traceback": [
            "\u001b[0;31m---------------------------------------------------------------------------\u001b[0m",
            "\u001b[0;31mValueError\u001b[0m                                Traceback (most recent call last)",
            "\u001b[0;32m<ipython-input-2-cdd9a5f9411c>\u001b[0m in \u001b[0;36m<module>\u001b[0;34m()\u001b[0m\n\u001b[1;32m     16\u001b[0m \u001b[0;34m\u001b[0m\u001b[0m\n\u001b[1;32m     17\u001b[0m \u001b[0mknapsack\u001b[0m \u001b[0;34m=\u001b[0m \u001b[0mKnapsackGenetic\u001b[0m\u001b[0;34m(\u001b[0m\u001b[0mparams\u001b[0m\u001b[0;34m)\u001b[0m\u001b[0;34m\u001b[0m\u001b[0;34m\u001b[0m\u001b[0m\n\u001b[0;32m---> 18\u001b[0;31m \u001b[0mknapsack\u001b[0m\u001b[0;34m.\u001b[0m\u001b[0mrun\u001b[0m\u001b[0;34m(\u001b[0m\u001b[0;34m)\u001b[0m\u001b[0;34m\u001b[0m\u001b[0;34m\u001b[0m\u001b[0m\n\u001b[0m",
            "\u001b[0;32m<ipython-input-1-d0cc9ec8ae41>\u001b[0m in \u001b[0;36mrun\u001b[0;34m(self)\u001b[0m\n\u001b[1;32m     76\u001b[0m       \u001b[0mgeneration_number\u001b[0m \u001b[0;34m+=\u001b[0m \u001b[0;36m1\u001b[0m\u001b[0;34m\u001b[0m\u001b[0;34m\u001b[0m\u001b[0m\n\u001b[1;32m     77\u001b[0m \u001b[0;34m\u001b[0m\u001b[0m\n\u001b[0;32m---> 78\u001b[0;31m     \u001b[0;32mreturn\u001b[0m \u001b[0mself\u001b[0m\u001b[0;34m.\u001b[0m\u001b[0mget_fit\u001b[0m\u001b[0;34m(\u001b[0m\u001b[0;34m)\u001b[0m\u001b[0;34m\u001b[0m\u001b[0;34m\u001b[0m\u001b[0m\n\u001b[0m",
            "\u001b[0;32m<ipython-input-1-d0cc9ec8ae41>\u001b[0m in \u001b[0;36mget_fit\u001b[0;34m(self)\u001b[0m\n\u001b[1;32m     31\u001b[0m     \u001b[0mevaluations\u001b[0m \u001b[0;34m=\u001b[0m \u001b[0mself\u001b[0m\u001b[0;34m.\u001b[0m\u001b[0mfitness_all\u001b[0m\u001b[0;34m(\u001b[0m\u001b[0;34m)\u001b[0m\u001b[0;34m\u001b[0m\u001b[0;34m\u001b[0m\u001b[0m\n\u001b[1;32m     32\u001b[0m \u001b[0;34m\u001b[0m\u001b[0m\n\u001b[0;32m---> 33\u001b[0;31m     \u001b[0mmax_evaluation\u001b[0m \u001b[0;34m=\u001b[0m \u001b[0mmax\u001b[0m\u001b[0;34m(\u001b[0m\u001b[0mevaluations\u001b[0m\u001b[0;34m)\u001b[0m\u001b[0;34m\u001b[0m\u001b[0;34m\u001b[0m\u001b[0m\n\u001b[0m\u001b[1;32m     34\u001b[0m \u001b[0;34m\u001b[0m\u001b[0m\n\u001b[1;32m     35\u001b[0m     \u001b[0mmax_index\u001b[0m \u001b[0;34m=\u001b[0m \u001b[0mevaluations\u001b[0m\u001b[0;34m.\u001b[0m\u001b[0mindex\u001b[0m\u001b[0;34m(\u001b[0m\u001b[0mmax_evaluation\u001b[0m\u001b[0;34m)\u001b[0m\u001b[0;34m\u001b[0m\u001b[0;34m\u001b[0m\u001b[0m\n",
            "\u001b[0;31mValueError\u001b[0m: max() arg is an empty sequence"
          ]
        }
      ]
    }
  ]
}