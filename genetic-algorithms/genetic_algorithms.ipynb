{
  "cells": [
    {
      "cell_type": "markdown",
      "metadata": {
        "id": "IgbwqxkW4SvK",
        "colab_type": "text"
      },
      "source": [
        "# Genetic Algorithms\n",
        "\n",
        "Genetic algorithms are a type of algorithm based on evolution theory to solve a range of problems. Most commonly, the problem being solved is an optimization (of a fitness function) problem. They are particularly useful in problems with really large solution spaces, where calculating all the possibilities is computationally infeasable. Additionally, they can be used in conjunction with other machine learning methods (such as neural networks) to produce good or optimal solutions.\n",
        "\n",
        "The approach of genetic algorithms is heavilly inspired by the random mutation of genes that eventually result in the formation of complex organisms. As such, they are non deterministic and require randomness throughout the process. Generally, algorithms will create random initial species, but a biased initialization may be made if suitable. After this initial population is evaluated with the fitness function, the best are selected and their children formed. Naturally. this is achieved by way of combining the best of the population and a certain randomness using some operations called **genetic operators**, which are:\n",
        "\n",
        "* **selection**: Good specimen are chosen to proliferate in later generations, however, a portion of non \"good\" specimen may be included to promote diversity and create new children that arent all derived from the best\n",
        "* **crossover**: Good specimen are combined to create children, there are many possible strategies, one such strategy may be selecting the genes which are sufficiently similar\n",
        "* **mutation**: Good specimen (either from the previous generation or as a result of crossing) are mutated randomly\n",
        "\n",
        "It's important to know that not all these operations have to be performed, (nontheless a selection will always be made) only mutations or corssovers may be performed if suitable, or a combination of both.\n",
        "\n",
        "A simple pseudocode for a genetic algorithm is:\n",
        "\n",
        "```\n",
        "while generations < max_generations or stopping condition is reached:\n",
        "  evaluate_all_specimen\n",
        "  select_best_specimen\n",
        "  specimen = generate_children (by crossover and/or mutation)\n",
        "```\n",
        "\n",
        "Two things are notabe regarding genetic algorithms:\n",
        "\n",
        "* Representation of the genes of a specimen may vary depending on the problem\n",
        "* The most important part is the evaluation function, as such, picking one is not an easy job and the goodness of the resulting solution will depend almost exclusively on this\n",
        "\n",
        "To exemplify a genetic algorithm, lets create a genetic algorithm that will try to guess a string based on an inital one (i.e. transform a string \"vg 48ht5. 45tcxeg wawef\" into \"Hello, world!\".\n",
        "\n",
        "The first thing we will need is a function to generate the initial population, in this case the initial population will be random strings the same length of \"Hello, world!\". We will be placing all functionallity of the algorithm inside a class with a somewhat generic implementation, so that it may be reused for other problems later.\n",
        "\n",
        "[1,0,1,1,0,1]"
      ]
    },
    {
      "cell_type": "code",
      "metadata": {
        "id": "rpIGKo56J1tM",
        "colab_type": "code",
        "outputId": "83c673cb-d49f-4e33-bd0f-6a25a4114aa3",
        "colab": {
          "base_uri": "https://localhost:8080/",
          "height": 55
        }
      },
      "source": [
        "import random\n",
        "\n",
        "class HelloGenetic:\n",
        "  def __init__(self, params):\n",
        "    self.ALL_CHARACTERS = list(\"qwertyuiopasdfghjklñzxcvbnmQWERTYUIOPASDFGHJKLÑZXCVBNM. ,!¡\")\n",
        "    self.HELLO_WORLD = list(\"Hello, world!\")\n",
        "    self.params = params\n",
        "    self.specimen = [None] * self.params[\"generation_size\"]\n",
        "\n",
        "    self.create_initial_population()\n",
        "\n",
        "  def create_initial_population(self):\n",
        "    self.specimen = list(\n",
        "      map(lambda _: random.sample(self.ALL_CHARACTERS, len(self.HELLO_WORLD)),\n",
        "      self.specimen)\n",
        "    )\n",
        "\n",
        "hello = HelloGenetic({\"generation_size\":5})\n",
        "print(hello.specimen)\n",
        "\n",
        "def fitness(self, specimen):\n",
        "  return sum(1 for expected, actual in zip(self.HELLO_WORLD, specimen) if expected == actual) / len(self.HELLO_WORLD)\n",
        "\n",
        "print(fitness(hello, ['z', 'e', 'F', 'e', 'h', 'Y', 'I', 'u', 'ñ', 'l', '!', 'Q', ',']))"
      ],
      "execution_count": 13,
      "outputs": [
        {
          "output_type": "stream",
          "name": "stdout",
          "text": "[['U', 'h', 'B', 'g', 'P', 'J', 'F', ' ', 'O', 'b', 'S', 'e', 'Z'], ['x', 'n', 'F', 'Y', 'Ñ', 'u', 'y', 'L', 'K', 'j', 'P', '¡', 'r'], ['y', 'K', 'd', 'f', 'P', 'Z', 'o', 'i', 'E', 'F', 'g', 'w', 'q'], ['l', 's', 'm', 'z', 'V', 'h', 'b', ',', 'k', 'O', 'y', ' ', 'P'], ['d', 'g', 'o', 'u', 'F', 'D', ' ', 't', 'J', 'T', 'j', 'L', 'G']]\n0.07692307692307693\n"
        }
      ]
    },
    {
      "cell_type": "markdown",
      "metadata": {
        "id": "EfoICZXJWEjd",
        "colab_type": "text"
      },
      "source": [
        "Now that we have this, we can declare the general genetic algorithm in the **run** function. We will add some empty functions for now."
      ]
    },
    {
      "cell_type": "code",
      "metadata": {
        "id": "oiFUPstzWMxJ",
        "colab_type": "code",
        "colab": {}
      },
      "source": [
        "import random\n",
        "\n",
        "class HelloGenetic:\n",
        "  def __init__(self, params):\n",
        "    self.ALL_CHARACTERS = list(\"qwertyuiopasdfghjklñzxcvbnmQWERTYUIOPASDFGHJKLÑZXCVBNM. ,!¡\")\n",
        "    self.HELLO_WORLD = list(\"Hello, world!\")\n",
        "    self.params = params\n",
        "    self.specimen = [None] * self.params[\"generation_size\"]\n",
        "\n",
        "    self.create_initial_population()\n",
        "\n",
        "  def create_initial_population(self):\n",
        "    self.specimen = list(\n",
        "      map(\n",
        "        lambda _: random.sample(self.ALL_CHARACTERS, len(self.HELLO_WORLD)),\n",
        "        self.specimen\n",
        "      )\n",
        "    )\n",
        "\n",
        "  def is_converged(self):\n",
        "    pass\n",
        "    \n",
        "  def get_fit(self):\n",
        "    pass\n",
        "  \n",
        "  def fitness_all(self):\n",
        "    pass\n",
        "  \n",
        "  def select_specimen(self):\n",
        "    pass\n",
        "  \n",
        "  def generate_children(self):\n",
        "    pass\n",
        "  \n",
        "  def run(self):\n",
        "    generation_number = 1\n",
        "\n",
        "    while generation_number <= self.params[\"max_generations\"] and not self.is_converged():\n",
        "      top_generation = self.get_fit()\n",
        "      \n",
        "      print(f\"Generation #{generation_number}:\\t{top_generation[0]}\\t{top_generation[1]}\")\n",
        "\n",
        "      specimen_evaluations = self.fitness_all()\n",
        "      selected_specimen = self.select_specimen(specimen_evaluations)\n",
        "      \n",
        "      self.specimen = self.generate_children(selected_specimen)\n",
        "      \n",
        "      generation_number += 1\n",
        "    \n",
        "    return self.get_fit()"
      ],
      "execution_count": 0,
      "outputs": []
    },
    {
      "cell_type": "markdown",
      "metadata": {
        "id": "vs6kjLthbX9J",
        "colab_type": "text"
      },
      "source": [
        "Now, we need to implement the **converged** function, which will in turn need to have the **fitness** functions implemented. The **converged** function will check if any of the specimen have reached an acceptable threshold for the fitness function. The **fitness** function will perform a naive string similarity measure based on the normalized number of matching characters in the target string (there are better string similarity measures)."
      ]
    },
    {
      "cell_type": "code",
      "metadata": {
        "id": "2Y5IWqcRbviU",
        "colab_type": "code",
        "colab": {}
      },
      "source": [
        "def fitness(self, specimen):\n",
        "  return sum(1 for expected, actual in zip(self.HELLO_WORLD, specimen) if expected == actual) / len(self.HELLO_WORLD)\n",
        "\n",
        "def is_converged(self):\n",
        "  if any(self.fitness(specimen) >= self.params[\"fit_threshold\"] for specimen in self.specimen):\n",
        "    return True\n",
        "\n",
        "  return False"
      ],
      "execution_count": 0,
      "outputs": []
    },
    {
      "cell_type": "markdown",
      "metadata": {
        "id": "Gz7z22CvfRgT",
        "colab_type": "text"
      },
      "source": [
        "Now that that has been defined, it's time to define the function **fitness_all** that will generate all specimen evaluations."
      ]
    },
    {
      "cell_type": "code",
      "metadata": {
        "id": "1dVAqclRfgoD",
        "colab_type": "code",
        "colab": {}
      },
      "source": [
        "def fitness_all(self):\n",
        "  return list(map(self.fitness, self.specimen))"
      ],
      "execution_count": 0,
      "outputs": []
    },
    {
      "cell_type": "markdown",
      "metadata": {
        "id": "1uA1SoEQfvLx",
        "colab_type": "text"
      },
      "source": [
        "We will implement the **select_specimen** function to select the top x% of specimen as given by the input parameter."
      ]
    },
    {
      "cell_type": "code",
      "metadata": {
        "id": "GR_bkuayf-JS",
        "colab_type": "code",
        "colab": {}
      },
      "source": [
        "import math\n",
        "\n",
        "def select_specimen(self, specimen_evaluations):\n",
        "  specimen_and_evaluations = list(zip(self.specimen, specimen_evaluations))-> [(['udvud'], 0.1), (['udvud'], 0.1)]\n",
        "\n",
        "  specimen_and_evaluations.sort(key=lambda e: e[1], reverse = True)\n",
        "\n",
        "  n_top = int(math.ceil(len(self.specimen) * self.params[\"select_top\"]))\n",
        "\n",
        "  return list(map(lambda s: s[0], specimen_and_evaluations[:n_top]))"
      ],
      "execution_count": 0,
      "outputs": []
    },
    {
      "cell_type": "markdown",
      "metadata": {
        "id": "g9fjHCFmiaOX",
        "colab_type": "text"
      },
      "source": [
        "Now the only missing functions are **generate children** and **get_fit**, the first will take the selected specimen and complete a generation by mutating the specimen given a parameter describing what % of digits should be mutated."
      ]
    },
    {
      "cell_type": "code",
      "metadata": {
        "id": "wxZHbKp0i-Jb",
        "colab_type": "code",
        "colab": {}
      },
      "source": [
        "import math\n",
        "import random\n",
        "\n",
        "def mutate(self, specimen):\n",
        "  n_digits = int(self.params[\"mutation_percentage\"] * (len(specimen) - 1))\n",
        "\n",
        "  digit_indexes = random.sample(list(range(len(specimen))), n_digits)\n",
        "\n",
        "  mutated = specimen[:]\n",
        "  \n",
        "  for idx in digit_indexes:\n",
        "    mutated[idx] = random.choice(self.ALL_CHARACTERS)\n",
        "\n",
        "  return mutated\n",
        "\n",
        "def generate_children(self, selected_specimen):  \n",
        "  mutated_specimen = [None] * len(self.specimen)\n",
        "  \n",
        "  for i in range(len(mutated_specimen)):\n",
        "    mutated_specimen[i] = self.mutate(random.choice(selected_specimen))\n",
        "  \n",
        "  return mutated_specimen"
      ],
      "execution_count": 0,
      "outputs": []
    },
    {
      "cell_type": "markdown",
      "metadata": {
        "id": "-kQjzts5m5dZ",
        "colab_type": "text"
      },
      "source": [
        "And now, the final function **get_fit** will just get the specimen with the highest fitness score."
      ]
    },
    {
      "cell_type": "code",
      "metadata": {
        "id": "si4Wm3ZMnLxI",
        "colab_type": "code",
        "colab": {}
      },
      "source": [
        "def get_fit(self):\n",
        "    evaluations = self.fitness_all()\n",
        "\n",
        "    max_evaluation = max(evaluations)\n",
        "\n",
        "    max_index = evaluations.index(max_evaluation)\n",
        "\n",
        "    return self.specimen[max_index], max_evaluation"
      ],
      "execution_count": 0,
      "outputs": []
    },
    {
      "cell_type": "markdown",
      "metadata": {
        "id": "QxoWEhUvoCmf",
        "colab_type": "text"
      },
      "source": [
        "Putting it all together:"
      ]
    },
    {
      "cell_type": "code",
      "metadata": {
        "id": "vbi7VBtCoEka",
        "colab_type": "code",
        "colab": {}
      },
      "source": [
        "import random\n",
        "import math\n",
        "\n",
        "class HelloGenetic:\n",
        "  def __init__(self, params):\n",
        "    self.ALL_CHARACTERS = list(\"qwertyuiopasdfghjklñzxcvbnmQWERTYUIOPASDFGHJKLÑZXCVBNM. ,!¡\")\n",
        "    self.HELLO_WORLD = list(\"Hello, world!\")\n",
        "    self.params = params\n",
        "    self.specimen = [None] * self.params[\"generation_size\"]\n",
        "\n",
        "    self.create_initial_population()\n",
        "\n",
        "  def create_initial_population(self):\n",
        "    self.specimen = list(map(lambda _: random.sample(self.ALL_CHARACTERS, len(self.HELLO_WORLD)), self.specimen))\n",
        "\n",
        "  def fitness(self, specimen):\n",
        "    return sum(1 for expected, actual in zip(self.HELLO_WORLD, specimen) if expected == actual) / len(self.HELLO_WORLD)\n",
        "\n",
        "  def is_converged(self):\n",
        "    if any(self.fitness(specimen) >= self.params[\"fit_threshold\"] for specimen in self.specimen):\n",
        "      return True\n",
        "\n",
        "    return False\n",
        "\n",
        "  def get_fit(self):\n",
        "    evaluations = self.fitness_all()\n",
        "\n",
        "    max_evaluation = max(evaluations)\n",
        "\n",
        "    max_index = evaluations.index(max_evaluation)\n",
        "\n",
        "    return self.specimen[max_index], max_evaluation\n",
        "\n",
        "  def fitness_all(self):\n",
        "    return list(map(self.fitness, self.specimen))\n",
        "\n",
        "  def select_specimen(self, specimen_evaluations):\n",
        "    specimen_and_evaluations = list(zip(self.specimen, specimen_evaluations))\n",
        "\n",
        "    specimen_and_evaluations.sort(key=lambda e: e[1], reverse = True)\n",
        "\n",
        "    n_top = int(math.ceil(len(self.specimen) * params[\"select_top\"]))\n",
        "\n",
        "    return list(map(lambda s: s[0], specimen_and_evaluations[:n_top]))\n",
        "  \n",
        "  def mutate(self, specimen):\n",
        "    n_digits = int(params[\"mutation_percentage\"] * (len(specimen) - 1))\n",
        "\n",
        "    digit_indexes = random.sample(list(range(len(specimen))), n_digits)\n",
        "\n",
        "    mutated = specimen[:]\n",
        "\n",
        "    for idx in digit_indexes:\n",
        "      mutated[idx] = random.choice(self.ALL_CHARACTERS)\n",
        "\n",
        "    return mutated\n",
        "\n",
        "  def generate_children(self, selected_specimen):  \n",
        "    mutated_specimen = [None] * len(self.specimen)\n",
        "\n",
        "    for i in range(len(mutated_specimen)):\n",
        "      mutated_specimen[i] = self.mutate(random.choice(selected_specimen))\n",
        "\n",
        "    return mutated_specimen\n",
        "\n",
        "  def run(self):\n",
        "    generation_number = 1\n",
        "\n",
        "    while generation_number <= self.params[\"max_generations\"] and not self.is_converged():\n",
        "      top_generation = self.get_fit()\n",
        "      top_str = \"\".join(top_generation[0])\n",
        "      \n",
        "      print(f\"Generation #{generation_number}:\\t{top_str}\\t{top_generation[1]}\")\n",
        "\n",
        "      specimen_evaluations = self.fitness_all()\n",
        "      selected_specimen = self.select_specimen(specimen_evaluations)\n",
        "      \n",
        "      self.specimen = self.generate_children(selected_specimen)\n",
        "      \n",
        "      generation_number += 1\n",
        "    \n",
        "    return self.get_fit()"
      ],
      "execution_count": 16,
      "outputs": []
    },
    {
      "cell_type": "markdown",
      "metadata": {
        "id": "UCfnZTFCpRz5",
        "colab_type": "text"
      },
      "source": [
        "Now we try it out!"
      ]
    },
    {
      "cell_type": "code",
      "metadata": {
        "id": "fLstX6JJpTvU",
        "colab_type": "code",
        "outputId": "ca801ba8-4870-4d5d-97ae-430bcb9a51ff",
        "colab": {
          "base_uri": "https://localhost:8080/",
          "height": 1000
        },
        "tags": [
          "outputPrepend",
          "outputPrepend",
          "outputPrepend",
          "outputPrepend"
        ]
      },
      "source": [
        "params = {\n",
        "    \"mutation_percentage\": 0.1,\n",
        "    \"select_top\": 0.05,\n",
        "    \"generation_size\": 20,\n",
        "    \"fit_threshold\": 1,\n",
        "    \"max_generations\": 1000\n",
        "}\n",
        "\n",
        "hello = HelloGenetic(params)\n",
        "fit  = hello.run()\n",
        "\n",
        "print(\"\".join(fit[0]), fit[1])"
      ],
      "execution_count": 17,
      "outputs": [
        {
          "output_type": "stream",
          "name": "stdout",
          "text": "Generation #1:\tfDi¡LmsGhgadb\t0.07692307692307693\nGeneration #2:\tHDi¡LmsGhgadb\t0.15384615384615385\nGeneration #3:\tHDi¡LmqGhgadb\t0.15384615384615385\nGeneration #4:\tHDi¡LmqGhXadb\t0.15384615384615385\nGeneration #5:\tHDi¡ImqGhXadb\t0.15384615384615385\nGeneration #6:\tHDi¡ImqGhXadb\t0.15384615384615385\nGeneration #7:\tHDi¡ImqGhzadb\t0.15384615384615385\nGeneration #8:\tHDi¡vmqGhzadb\t0.15384615384615385\nGeneration #9:\tHDi¡vmqGhzadb\t0.15384615384615385\nGeneration #10:\tHDi¡vmqGhzudb\t0.15384615384615385\nGeneration #11:\tHDi¡vmqGhzudb\t0.15384615384615385\nGeneration #12:\tHDi¡vmKGhzudb\t0.15384615384615385\nGeneration #13:\tHDi¡vmKYhzudb\t0.15384615384615385\nGeneration #14:\tHDi¡vmKYhzddb\t0.15384615384615385\nGeneration #15:\tHDi¡vmKYhzddb\t0.15384615384615385\nGeneration #16:\tHDi¡vkKYhzddb\t0.15384615384615385\nGeneration #17:\tHDi¡vkKYhzkdb\t0.15384615384615385\nGeneration #18:\tHDi¡vk Yhzkdb\t0.23076923076923078\nGeneration #19:\tHDiOvk Yhzkdb\t0.23076923076923078\nGeneration #20:\tHDiOvk Yhgkdb\t0.23076923076923078\nGeneration #21:\tHDiOvR Yhgkdb\t0.23076923076923078\nGeneration #22:\tHPiOvR Yhgkdb\t0.23076923076923078\nGeneration #23:\tHPiOvR whgkdb\t0.3076923076923077\nGeneration #24:\tHPiOv, whgkdb\t0.38461538461538464\nGeneration #25:\tHPiOv, whgkdw\t0.38461538461538464\nGeneration #26:\tHPiOv, whgldw\t0.46153846153846156\nGeneration #27:\tHPiOv, wYgldw\t0.46153846153846156\nGeneration #28:\tHPiLv, wYgldw\t0.46153846153846156\nGeneration #29:\tHYiLv, wYgldw\t0.46153846153846156\nGeneration #30:\tHYaLv, wYgldw\t0.46153846153846156\nGeneration #31:\tHeaLv, wYgldw\t0.5384615384615384\nGeneration #32:\tHeavv, wYgldw\t0.5384615384615384\nGeneration #33:\tHeavv, wogldw\t0.6153846153846154\nGeneration #34:\tHeavv, wolldw\t0.6153846153846154\nGeneration #35:\tHeaov, wolldw\t0.6153846153846154\nGeneration #36:\tHeaBv, wolldw\t0.6153846153846154\nGeneration #37:\tHeaBv, woqldw\t0.6153846153846154\nGeneration #38:\tHeaBv, woqldu\t0.6153846153846154\nGeneration #39:\tHeaBv, wotldu\t0.6153846153846154\nGeneration #40:\tHeLBv, wotldu\t0.6153846153846154\nGeneration #41:\tHeLBv, wotldu\t0.6153846153846154\nGeneration #42:\tHeLBv, wotldI\t0.6153846153846154\nGeneration #43:\tHeLBv, woñldI\t0.6153846153846154\nGeneration #44:\tHeLBñ, woñldI\t0.6153846153846154\nGeneration #45:\tHeLBñ, wocldI\t0.6153846153846154\nGeneration #46:\tHeÑBñ, wocldI\t0.6153846153846154\nGeneration #47:\tHeÑBñ, wocldj\t0.6153846153846154\nGeneration #48:\tHeÑBñ, woOldj\t0.6153846153846154\nGeneration #49:\tHeÑlñ, woOldj\t0.6923076923076923\nGeneration #50:\tHeÑlL, woOldj\t0.6923076923076923\nGeneration #51:\tHeÑlL, woOldj\t0.6923076923076923\nGeneration #52:\tHeQlL, woOldj\t0.6923076923076923\nGeneration #53:\tHeQlr, woOldj\t0.6923076923076923\nGeneration #54:\tHeQlQ, woOldj\t0.6923076923076923\nGeneration #55:\tHexlQ, woOldj\t0.6923076923076923\nGeneration #56:\tHeElQ, woOldj\t0.6923076923076923\nGeneration #57:\tHeElq, woOldj\t0.6923076923076923\nGeneration #58:\tHeEll, woOldj\t0.6923076923076923\nGeneration #59:\tHeEll, woLldj\t0.6923076923076923\nGeneration #60:\tHeEll, woLldh\t0.6923076923076923\nGeneration #61:\tHeEll, woLld,\t0.6923076923076923\nGeneration #62:\tHeRll, woLld,\t0.6923076923076923\nGeneration #63:\tHeñll, woLld,\t0.6923076923076923\nGeneration #64:\tHeGll, woLld,\t0.6923076923076923\nGeneration #65:\tHeGlp, woLld,\t0.6923076923076923\nGeneration #66:\tHeulp, woLld,\t0.6923076923076923\nGeneration #67:\tHeblp, woLld,\t0.6923076923076923\nGeneration #68:\tHeblp, woIld,\t0.6923076923076923\nGeneration #69:\tHeblp, wonld,\t0.6923076923076923\nGeneration #70:\tHeblF, wonld,\t0.6923076923076923\nGeneration #71:\tHeblF, woÑld,\t0.6923076923076923\nGeneration #72:\tHebll, woÑld,\t0.6923076923076923\nGeneration #73:\tHelll, woÑld,\t0.7692307692307693\nGeneration #74:\tHellW, woÑld,\t0.7692307692307693\nGeneration #75:\tHellc, woÑld,\t0.7692307692307693\nGeneration #76:\tHellB, woÑld,\t0.7692307692307693\nGeneration #77:\tHellB, woÑldb\t0.7692307692307693\nGeneration #78:\tHellB, woÑldD\t0.7692307692307693\nGeneration #79:\tHellG, woÑldD\t0.7692307692307693\nGeneration #80:\tHellG, woÑldt\t0.7692307692307693\nGeneration #81:\tHellG, woÑldk\t0.7692307692307693\nGeneration #82:\tHell,, woÑldk\t0.7692307692307693\nGeneration #83:\tHell,, woÑldv\t0.7692307692307693\nGeneration #84:\tHell,, wooldv\t0.7692307692307693\nGeneration #85:\tHell,, woildv\t0.7692307692307693\nGeneration #86:\tHellU, woildv\t0.7692307692307693\nGeneration #87:\tHelll, woildv\t0.7692307692307693\nGeneration #88:\tHellb, woildv\t0.7692307692307693\nGeneration #89:\tHellT, woildv\t0.7692307692307693\nGeneration #90:\tHell., woildv\t0.7692307692307693\nGeneration #91:\tHell., wo.ldv\t0.7692307692307693\nGeneration #92:\tHell., wo,ldv\t0.7692307692307693\nGeneration #93:\tHello, wo,ldv\t0.8461538461538461\nGeneration #94:\tHello, wovldv\t0.8461538461538461\nGeneration #95:\tHello, wovldU\t0.8461538461538461\nGeneration #96:\tHello, wovldT\t0.8461538461538461\nGeneration #97:\tHello, wovldc\t0.8461538461538461\nGeneration #98:\tHello, wojldc\t0.8461538461538461\nGeneration #99:\tHello, wojld!\t0.9230769230769231\nGeneration #100:\tHello, wojld!\t0.9230769230769231\nGeneration #101:\tHello, wovld!\t0.9230769230769231\nGeneration #102:\tHello, wo,ld!\t0.9230769230769231\nGeneration #103:\tHello, wolld!\t0.9230769230769231\nGeneration #104:\tHello, woJld!\t0.9230769230769231\nHello, world! 1.0\n"
        }
      ]
    },
    {
      "cell_type": "code",
      "execution_count": null,
      "metadata": {},
      "outputs": [],
      "source": []
    }
  ],
  "metadata": {
    "colab": {
      "name": "genetic-algorithms.ipynb",
      "provenance": [],
      "collapsed_sections": []
    },
    "kernelspec": {
      "name": "python3",
      "display_name": "Python 3"
    }
  },
  "nbformat": 4,
  "nbformat_minor": 0
}