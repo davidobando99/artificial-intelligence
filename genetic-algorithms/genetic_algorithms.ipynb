{
  "cells": [
    {
      "cell_type": "markdown",
      "metadata": {
        "id": "IgbwqxkW4SvK",
        "colab_type": "text"
      },
      "source": [
        "# Genetic Algorithms\n",
        "\n",
        "Genetic algorithms are a type of algorithm based on evolution theory to solve a range of problems. Most commonly, the problem being solved is an optimization (of a fitness function) problem. They are particularly useful in problems with really large solution spaces, where calculating all the possibilities is computationally infeasable. Additionally, they can be used in conjunction with other machine learning methods (such as neural networks) to produce good or optimal solutions.\n",
        "\n",
        "The approach of genetic algorithms is heavilly inspired by the random mutation of genes that eventually result in the formation of complex organisms. As such, they are non deterministic and require randomness throughout the process. Generally, algorithms will create random initial species, but a biased initialization may be made if suitable. After this initial population is evaluated with the fitness function, the best are selected and their children formed. Naturally. this is achieved by way of combining the best of the population and a certain randomness using some operations called **genetic operators**, which are:\n",
        "\n",
        "* **selection**: Good specimen are chosen to proliferate in later generations, however, a portion of non \"good\" specimen may be included to promote diversity and create new children that arent all derived from the best\n",
        "* **crossover**: Good specimen are combined to create children, there are many possible strategies, one such strategy may be selecting the genes which are sufficiently similar\n",
        "* **mutation**: Good specimen (either from the previous generation or as a result of crossing) are mutated randomly\n",
        "\n",
        "It's important to know that not all these operations have to be performed, (nontheless a selection will always be made) only mutations or corssovers may be performed if suitable, or a combination of both.\n",
        "\n",
        "A simple pseudocode for a genetic algorithm is:\n",
        "\n",
        "```\n",
        "while generations < max_generations or stopping condition is reached:\n",
        "  evaluate_all_specimen\n",
        "  select_best_specimen\n",
        "  specimen = generate_children (by crossover and/or mutation)\n",
        "```\n",
        "\n",
        "Two things are notabe regarding genetic algorithms:\n",
        "\n",
        "* Representation of the genes of a specimen may vary depending on the problem\n",
        "* The most important part is the evaluation function, as such, picking one is not an easy job and the goodness of the resulting solution will depend almost exclusively on this\n",
        "\n",
        "To exemplify a genetic algorithm, lets create a genetic algorithm that will try to guess a string based on an inital one (i.e. transform a string \"vg 48ht5. 45tcxeg wawef\" into \"Hello, world!\".\n",
        "\n",
        "The first thing we will need is a function to generate the initial population, in this case the initial population will be random strings the same length of \"Hello, world!\". We will be placing all functionallity of the algorithm inside a class with a somewhat generic implementation, so that it may be reused for other problems later.\n",
        "\n",
        "[1,0,1,1,0,1]"
      ]
    },
    {
      "cell_type": "code",
      "metadata": {
        "id": "rpIGKo56J1tM",
        "colab_type": "code",
        "outputId": "83c673cb-d49f-4e33-bd0f-6a25a4114aa3",
        "colab": {
          "base_uri": "https://localhost:8080/",
          "height": 55
        }
      },
      "source": [
        "import random\n",
        "\n",
        "class HelloGenetic:\n",
        "  def __init__(self, params):\n",
        "    self.ALL_CHARACTERS = list(\"qwertyuiopasdfghjklñzxcvbnmQWERTYUIOPASDFGHJKLÑZXCVBNM. ,!¡\")\n",
        "    self.HELLO_WORLD = list(\"Hello, world!\")\n",
        "    self.params = params\n",
        "    self.specimen = [None] * self.params[\"generation_size\"]\n",
        "\n",
        "    self.create_initial_population()\n",
        "\n",
        "  def create_initial_population(self):\n",
        "    self.specimen = list(\n",
        "      map(lambda _: random.sample(self.ALL_CHARACTERS, len(self.HELLO_WORLD)),\n",
        "      self.specimen)\n",
        "    )\n",
        "\n",
        "hello = HelloGenetic({\"generation_size\":5})\n",
        "print(hello.specimen)"
      ],
      "execution_count": 1,
      "outputs": [
        {
          "output_type": "stream",
          "name": "stdout",
          "text": "[['c', 'v', 'e', 'B', 'z', 'Q', 'E', '¡', 'o', 'm', 'M', 'I', 'ñ'], ['Q', 'e', 'I', 'H', '.', 'r', '!', 'l', 'M', 'y', 't', 'o', ','], ['A', 'P', 'm', 'c', '.', 'e', 'ñ', '!', 'h', 'O', 'W', 'i', 'z'], ['P', 'L', 'l', 'v', 'ñ', 'h', 'w', 'Ñ', 'a', 'g', 'H', 'F', 'O'], ['h', 't', 'Z', 'o', 'Ñ', 'g', 'F', 'H', 'Y', 'Q', 'S', 'z', '¡']]\n"
        }
      ]
    },
    {
      "cell_type": "markdown",
      "metadata": {
        "id": "EfoICZXJWEjd",
        "colab_type": "text"
      },
      "source": [
        "Now that we have this, we can declare the general genetic algorithm in the **run** function. We will add some empty functions for now."
      ]
    },
    {
      "cell_type": "code",
      "metadata": {
        "id": "oiFUPstzWMxJ",
        "colab_type": "code",
        "colab": {}
      },
      "source": [
        "import random\n",
        "\n",
        "class HelloGenetic:\n",
        "  def __init__(self, params):\n",
        "    self.ALL_CHARACTERS = list(\"qwertyuiopasdfghjklñzxcvbnmQWERTYUIOPASDFGHJKLÑZXCVBNM. ,!¡\")\n",
        "    self.HELLO_WORLD = list(\"Hello, world!\")\n",
        "    self.params = params\n",
        "    self.specimen = [None] * self.params[\"generation_size\"]\n",
        "\n",
        "    self.create_initial_population()\n",
        "\n",
        "  def create_initial_population(self):\n",
        "    self.specimen = list(\n",
        "      map(\n",
        "        lambda _: random.sample(self.ALL_CHARACTERS, len(self.HELLO_WORLD)),\n",
        "        self.specimen\n",
        "      )\n",
        "    )\n",
        "\n",
        "  def is_converged(self):\n",
        "    pass\n",
        "    \n",
        "  def get_fit(self):\n",
        "    pass\n",
        "  \n",
        "  def fitness_all(self):\n",
        "    pass\n",
        "  \n",
        "  def select_specimen(self):\n",
        "    pass\n",
        "  \n",
        "  def generate_children(self):\n",
        "    pass\n",
        "  \n",
        "  def run(self):\n",
        "    generation_number = 1\n",
        "\n",
        "    while generation_number <= self.params[\"max_generations\"] and not self.is_converged():\n",
        "      top_generation = self.get_fit()\n",
        "      \n",
        "      print(f\"Generation #{generation_number}:\\t{top_generation[0]}\\t{top_generation[1]}\")\n",
        "\n",
        "      specimen_evaluations = self.fitness_all()\n",
        "      selected_specimen = self.select_specimen(specimen_evaluations)\n",
        "      \n",
        "      self.specimen = self.generate_children(selected_specimen)\n",
        "      \n",
        "      generation_number += 1\n",
        "    \n",
        "    return self.get_fit()"
      ],
      "execution_count": 0,
      "outputs": []
    },
    {
      "cell_type": "markdown",
      "metadata": {
        "id": "vs6kjLthbX9J",
        "colab_type": "text"
      },
      "source": [
        "Now, we need to implement the **converged** function, which will in turn need to have the **fitness** functions implemented. The **converged** function will check if any of the specimen have reached an acceptable threshold for the fitness function. The **fitness** function will perform a naive string similarity measure based on the normalized number of matching characters in the target string (there are better string similarity measures)."
      ]
    },
    {
      "cell_type": "code",
      "metadata": {
        "id": "2Y5IWqcRbviU",
        "colab_type": "code",
        "colab": {}
      },
      "source": [
        "def fitness(self, specimen):\n",
        "  return sum(1 for expected, actual in zip(self.HELLO_WORLD, specimen) if expected == actual) / len(self.HELLO_WORLD)\n",
        "\n",
        "def is_converged(self):\n",
        "  if any(self.fitness(specimen) >= self.params[\"fit_threshold\"] for specimen in self.specimen):\n",
        "    return True\n",
        "\n",
        "  return False"
      ],
      "execution_count": 0,
      "outputs": []
    },
    {
      "cell_type": "markdown",
      "metadata": {
        "id": "Gz7z22CvfRgT",
        "colab_type": "text"
      },
      "source": [
        "Now that that has been defined, it's time to define the function **fitness_all** that will generate all specimen evaluations."
      ]
    },
    {
      "cell_type": "code",
      "metadata": {
        "id": "1dVAqclRfgoD",
        "colab_type": "code",
        "colab": {}
      },
      "source": [
        "def fitness_all(self):\n",
        "  return list(map(self.fitness, self.specimen))"
      ],
      "execution_count": 0,
      "outputs": []
    },
    {
      "cell_type": "markdown",
      "metadata": {
        "id": "1uA1SoEQfvLx",
        "colab_type": "text"
      },
      "source": [
        "We will implement the **select_specimen** function to select the top x% of specimen as given by the input parameter."
      ]
    },
    {
      "cell_type": "code",
      "metadata": {
        "id": "GR_bkuayf-JS",
        "colab_type": "code",
        "colab": {}
      },
      "source": [
        "import math\n",
        "\n",
        "def select_specimen(self, specimen_evaluations):\n",
        "  specimen_and_evaluations = list(zip(self.specimen, specimen_evaluations))-> [(['udvud'], 0.1), (['udvud'], 0.1)]\n",
        "\n",
        "  specimen_and_evaluations.sort(key=lambda e: e[1], reverse = True)\n",
        "\n",
        "  n_top = int(math.ceil(len(self.specimen) * self.params[\"select_top\"]))\n",
        "\n",
        "  return list(map(lambda s: s[0], specimen_and_evaluations[:n_top]))"
      ],
      "execution_count": 0,
      "outputs": []
    },
    {
      "cell_type": "markdown",
      "metadata": {
        "id": "g9fjHCFmiaOX",
        "colab_type": "text"
      },
      "source": [
        "Now the only missing functions are **generate children** and **get_fit**, the first will take the selected specimen and complete a generation by mutating the specimen given a parameter describing what % of digits should be mutated."
      ]
    },
    {
      "cell_type": "code",
      "metadata": {
        "id": "wxZHbKp0i-Jb",
        "colab_type": "code",
        "colab": {}
      },
      "source": [
        "import math\n",
        "import random\n",
        "\n",
        "def mutate(self, specimen):\n",
        "  n_digits = int(self.params[\"mutation_percentage\"] * (len(specimen) - 1))\n",
        "\n",
        "  digit_indexes = random.sample(list(range(len(specimen))), n_digits)\n",
        "\n",
        "  mutated = specimen[:]\n",
        "  \n",
        "  for idx in digit_indexes:\n",
        "    mutated[idx] = random.choice(self.ALL_CHARACTERS)\n",
        "\n",
        "  return mutated\n",
        "\n",
        "def generate_children(self, selected_specimen):  \n",
        "  mutated_specimen = [None] * len(self.specimen)\n",
        "  \n",
        "  for i in range(len(mutated_specimen)):\n",
        "    mutated_specimen[i] = self.mutate(random.choice(selected_specimen))\n",
        "  \n",
        "  return mutated_specimen"
      ],
      "execution_count": 0,
      "outputs": []
    },
    {
      "cell_type": "markdown",
      "metadata": {
        "id": "-kQjzts5m5dZ",
        "colab_type": "text"
      },
      "source": [
        "And now, the final function **get_fit** will just get the specimen with the highest fitness score."
      ]
    },
    {
      "cell_type": "code",
      "metadata": {
        "id": "si4Wm3ZMnLxI",
        "colab_type": "code",
        "colab": {}
      },
      "source": [
        "def get_fit(self):\n",
        "    evaluations = self.fitness_all()\n",
        "\n",
        "    max_evaluation = max(evaluations)\n",
        "\n",
        "    max_index = evaluations.index(max_evaluation)\n",
        "\n",
        "    return self.specimen[max_index], max_evaluation"
      ],
      "execution_count": 0,
      "outputs": []
    },
    {
      "cell_type": "markdown",
      "metadata": {
        "id": "QxoWEhUvoCmf",
        "colab_type": "text"
      },
      "source": [
        "Putting it all together:"
      ]
    },
    {
      "cell_type": "code",
      "metadata": {
        "id": "vbi7VBtCoEka",
        "colab_type": "code",
        "colab": {}
      },
      "source": [
        "import random\n",
        "import math\n",
        "\n",
        "class HelloGenetic:\n",
        "  def __init__(self, params):\n",
        "    self.ALL_CHARACTERS = list(\"qwertyuiopasdfghjklñzxcvbnmQWERTYUIOPASDFGHJKLÑZXCVBNM. ,!¡\")\n",
        "    self.HELLO_WORLD = list(\"Hello, world!\")\n",
        "    self.params = params\n",
        "    self.specimen = [None] * self.params[\"generation_size\"]\n",
        "\n",
        "    self.create_initial_population()\n",
        "\n",
        "  def create_initial_population(self):\n",
        "    self.specimen = list(map(lambda _: random.sample(self.ALL_CHARACTERS, len(self.HELLO_WORLD)), self.specimen))\n",
        "\n",
        "  def fitness(self, specimen):\n",
        "    return sum(1 for expected, actual in zip(self.HELLO_WORLD, specimen) if expected == actual) / len(self.HELLO_WORLD)\n",
        "\n",
        "  def is_converged(self):\n",
        "    if any(self.fitness(specimen) >= self.params[\"fit_threshold\"] for specimen in self.specimen):\n",
        "      return True\n",
        "\n",
        "    return False\n",
        "\n",
        "  def get_fit(self):\n",
        "    evaluations = self.fitness_all()\n",
        "\n",
        "    max_evaluation = max(evaluations)\n",
        "\n",
        "    max_index = evaluations.index(max_evaluation)\n",
        "\n",
        "    return self.specimen[max_index], max_evaluation\n",
        "\n",
        "  def fitness_all(self):\n",
        "    return list(map(self.fitness, self.specimen))\n",
        "\n",
        "  def select_specimen(self, specimen_evaluations):\n",
        "    specimen_and_evaluations = list(zip(self.specimen, specimen_evaluations))\n",
        "\n",
        "    specimen_and_evaluations.sort(key=lambda e: e[1], reverse = True)\n",
        "\n",
        "    n_top = int(math.ceil(len(self.specimen) * params[\"select_top\"]))\n",
        "\n",
        "    return list(map(lambda s: s[0], specimen_and_evaluations[:n_top]))\n",
        "  \n",
        "  def mutate(self, specimen):\n",
        "    n_digits = int(params[\"mutation_percentage\"] * (len(specimen) - 1))\n",
        "\n",
        "    digit_indexes = random.sample(list(range(len(specimen))), n_digits)\n",
        "\n",
        "    mutated = specimen[:]\n",
        "\n",
        "    for idx in digit_indexes:\n",
        "      mutated[idx] = random.choice(self.ALL_CHARACTERS)\n",
        "\n",
        "    return mutated\n",
        "\n",
        "  def generate_children(self, selected_specimen):  \n",
        "    mutated_specimen = [None] * len(self.specimen)\n",
        "\n",
        "    for i in range(len(mutated_specimen)):\n",
        "      mutated_specimen[i] = self.mutate(random.choice(selected_specimen))\n",
        "\n",
        "    return mutated_specimen\n",
        "\n",
        "  def run(self):\n",
        "    generation_number = 1\n",
        "\n",
        "    while generation_number <= self.params[\"max_generations\"] and not self.is_converged():\n",
        "      top_generation = self.get_fit()\n",
        "      top_str = \"\".join(top_generation[0])\n",
        "      \n",
        "      print(f\"Generation #{generation_number}:\\t{top_str}\\t{top_generation[1]}\")\n",
        "\n",
        "      specimen_evaluations = self.fitness_all()\n",
        "      selected_specimen = self.select_specimen(specimen_evaluations)\n",
        "      \n",
        "      self.specimen = self.generate_children(selected_specimen)\n",
        "      \n",
        "      generation_number += 1\n",
        "    \n",
        "    return self.get_fit()"
      ],
      "execution_count": 1,
      "outputs": []
    },
    {
      "cell_type": "markdown",
      "metadata": {
        "id": "UCfnZTFCpRz5",
        "colab_type": "text"
      },
      "source": [
        "Now we try it out!"
      ]
    },
    {
      "cell_type": "code",
      "metadata": {
        "id": "fLstX6JJpTvU",
        "colab_type": "code",
        "outputId": "ca801ba8-4870-4d5d-97ae-430bcb9a51ff",
        "colab": {
          "base_uri": "https://localhost:8080/",
          "height": 1000
        },
        "tags": [
          "outputPrepend"
        ]
      },
      "source": [
        "params = {\n",
        "    \"mutation_percentage\": 0.1,\n",
        "    \"select_top\": 0.05,\n",
        "    \"generation_size\": 20,\n",
        "    \"fit_threshold\": 0.8,\n",
        "    \"max_generations\": 1000\n",
        "}\n",
        "\n",
        "hello = HelloGenetic(params)\n",
        "fit  = hello.run()\n",
        "\n",
        "print(\"\".join(fit[0]), fit[1])"
      ],
      "execution_count": 4,
      "outputs": [
        {
          "output_type": "stream",
          "name": "stdout",
          "text": "Generation #1:\ti¡RlNznOJFMrt\t0.07692307692307693\nGeneration #2:\ti¡ÑlNznOJFMrt\t0.07692307692307693\nGeneration #3:\ti¡OlNznOJFMrt\t0.07692307692307693\nGeneration #4:\ti¡OlNznOJFlrt\t0.15384615384615385\nGeneration #5:\ti¡OlNznOJFlrt\t0.15384615384615385\nGeneration #6:\ti¡OlNznOJrlrt\t0.23076923076923078\nGeneration #7:\ti¡KlNznOJrlrt\t0.23076923076923078\nGeneration #8:\ti¡KlGznOJrlrt\t0.23076923076923078\nGeneration #9:\ti¡KlGbnOJrlrt\t0.23076923076923078\nGeneration #10:\ti¡KlGbnOJrlXt\t0.23076923076923078\nGeneration #11:\ti¡KlGbnOJrlX!\t0.3076923076923077\nGeneration #12:\ti¡KlG,nOJrlX!\t0.38461538461538464\nGeneration #13:\ti¡KlG,nOhrlX!\t0.38461538461538464\nGeneration #14:\ti¡KlG,bOhrlX!\t0.38461538461538464\nGeneration #15:\tiWKlG,bOhrlX!\t0.38461538461538464\nGeneration #16:\tGWKlG,bOhrlX!\t0.38461538461538464\nGeneration #17:\tGWKlG,bOErlX!\t0.38461538461538464\nGeneration #18:\t WKlG,bOErlX!\t0.38461538461538464\nGeneration #19:\t uKlG,bOErlX!\t0.38461538461538464\nGeneration #20:\t uKlG,!OErlX!\t0.38461538461538464\nGeneration #21:\t uKlG,!OdrlX!\t0.38461538461538464\nGeneration #22:\tYuKlG,!OdrlX!\t0.38461538461538464\nGeneration #23:\tYuKlG,rOdrlX!\t0.38461538461538464\nGeneration #24:\tYuKlG,rOQrlX!\t0.38461538461538464\nGeneration #25:\tYujlG,rOQrlX!\t0.38461538461538464\nGeneration #26:\tYujlG,r!QrlX!\t0.38461538461538464\nGeneration #27:\tYujlG,r!Qrls!\t0.38461538461538464\nGeneration #28:\tYujlG,r!Qrlñ!\t0.38461538461538464\nGeneration #29:\tYuzlG,r!Qrlñ!\t0.38461538461538464\nGeneration #30:\tYuzlh,r!Qrlñ!\t0.38461538461538464\nGeneration #31:\tYuzlh,r!orlñ!\t0.46153846153846156\nGeneration #32:\tYuzlO,r!orlñ!\t0.46153846153846156\nGeneration #33:\tYuzlO,S!orlñ!\t0.46153846153846156\nGeneration #34:\tYuzlK,S!orlñ!\t0.46153846153846156\nGeneration #35:\tYuzlK,Sworlñ!\t0.5384615384615384\nGeneration #36:\tYuzlK,Sworl!!\t0.5384615384615384\nGeneration #37:\tmuzlK,Sworl!!\t0.5384615384615384\nGeneration #38:\tmuplK,Sworl!!\t0.5384615384615384\nGeneration #39:\tmuplK,Sworl!!\t0.5384615384615384\nGeneration #40:\tmuplK,Sworl!!\t0.5384615384615384\nGeneration #41:\tmkplK,Sworl!!\t0.5384615384615384\nGeneration #42:\tPkplK,Sworl!!\t0.5384615384615384\nGeneration #43:\tPkplK,mworl!!\t0.5384615384615384\nGeneration #44:\tPAplK,mworl!!\t0.5384615384615384\nGeneration #45:\tPAplK,Iworl!!\t0.5384615384615384\nGeneration #46:\tpAplK,Iworl!!\t0.5384615384615384\nGeneration #47:\tpAplK,Eworl!!\t0.5384615384615384\nGeneration #48:\tprplK,Eworl!!\t0.5384615384615384\nGeneration #49:\tprplK,Jworl!!\t0.5384615384615384\nGeneration #50:\tprplK,JworlH!\t0.5384615384615384\nGeneration #51:\tphplK,JworlH!\t0.5384615384615384\nGeneration #52:\tphplK,eworlH!\t0.5384615384615384\nGeneration #53:\tphplo,eworlH!\t0.6153846153846154\nGeneration #54:\tphwlo,eworlH!\t0.6153846153846154\nGeneration #55:\tphwlo,eworlH!\t0.6153846153846154\nGeneration #56:\tzhwlo,eworlH!\t0.6153846153846154\nGeneration #57:\tzhwlo,yworlH!\t0.6153846153846154\nGeneration #58:\twhwlo,yworlH!\t0.6153846153846154\nGeneration #59:\tMhwlo,yworlH!\t0.6153846153846154\nGeneration #60:\tM,wlo,yworlH!\t0.6153846153846154\nGeneration #61:\tMÑwlo,yworlH!\t0.6153846153846154\nGeneration #62:\tMiwlo,yworlH!\t0.6153846153846154\nGeneration #63:\tMiwlo,yworl,!\t0.6153846153846154\nGeneration #64:\tMiwlo,Xworl,!\t0.6153846153846154\nGeneration #65:\tMiElo,Xworl,!\t0.6153846153846154\nGeneration #66:\tMiElo,Xworly!\t0.6153846153846154\nGeneration #67:\tMiTlo,Xworly!\t0.6153846153846154\nGeneration #68:\tMiTlo,Xworli!\t0.6153846153846154\nGeneration #69:\tMeTlo,Xworli!\t0.6923076923076923\nGeneration #70:\tMeTlo,Eworli!\t0.6923076923076923\nGeneration #71:\tGeTlo,Eworli!\t0.6923076923076923\nGeneration #72:\tGeTlo,Eworli!\t0.6923076923076923\nGeneration #73:\tGedlo,Eworli!\t0.6923076923076923\nGeneration #74:\tGeNlo,Eworli!\t0.6923076923076923\nGeneration #75:\tGeNlo,Eworlñ!\t0.6923076923076923\nGeneration #76:\teeNlo,Eworlñ!\t0.6923076923076923\nGeneration #77:\teeulo,Eworlñ!\t0.6923076923076923\nGeneration #78:\teeulo,gworlñ!\t0.6923076923076923\nGeneration #79:\teeulo,jworlñ!\t0.6923076923076923\nGeneration #80:\tNeulo,jworlñ!\t0.6923076923076923\nGeneration #81:\tNeulo,jworlñ!\t0.6923076923076923\nGeneration #82:\tweulo,jworlñ!\t0.6923076923076923\nGeneration #83:\tVeulo,jworlñ!\t0.6923076923076923\nGeneration #84:\tVeulo,zworlñ!\t0.6923076923076923\nGeneration #85:\tVeulo,zworlE!\t0.6923076923076923\nGeneration #86:\tVeVlo,zworlE!\t0.6923076923076923\nGeneration #87:\tVeVlo,zworlE!\t0.6923076923076923\nGeneration #88:\tVeVlo,zworlf!\t0.6923076923076923\nGeneration #89:\tUeVlo,zworlf!\t0.6923076923076923\nGeneration #90:\tUeVlo,zworlf!\t0.6923076923076923\nGeneration #91:\tUe.lo,zworlf!\t0.6923076923076923\nGeneration #92:\tUeHlo,zworlf!\t0.6923076923076923\nGeneration #93:\tUeHlo,Dworlf!\t0.6923076923076923\nGeneration #94:\tzeHlo,Dworlf!\t0.6923076923076923\nGeneration #95:\tzeÑlo,Dworlf!\t0.6923076923076923\nGeneration #96:\tzeÑlo,DworlK!\t0.6923076923076923\nGeneration #97:\tzeÑlo,TworlK!\t0.6923076923076923\nGeneration #98:\tzeÑlo,.worlK!\t0.6923076923076923\nGeneration #99:\tIeÑlo,.worlK!\t0.6923076923076923\nGeneration #100:\tIeÑlo,PworlK!\t0.6923076923076923\nGeneration #101:\tIeÑlo,PworlE!\t0.6923076923076923\nGeneration #102:\tOeÑlo,PworlE!\t0.6923076923076923\nGeneration #103:\tOeÑlo,TworlE!\t0.6923076923076923\nGeneration #104:\tOello,TworlE!\t0.7692307692307693\nGeneration #105:\tOello,sworlE!\t0.7692307692307693\nGeneration #106:\tGello,sworlE!\t0.7692307692307693\nGeneration #107:\tGello,bworlE!\t0.7692307692307693\nGeneration #108:\tWello,bworlE!\t0.7692307692307693\nGeneration #109:\tWello,bworlC!\t0.7692307692307693\nGeneration #110:\tzello,bworlC!\t0.7692307692307693\nGeneration #111:\tzello,cworlC!\t0.7692307692307693\nGeneration #112:\tzello,fworlC!\t0.7692307692307693\nGeneration #113:\tTello,fworlC!\t0.7692307692307693\nGeneration #114:\tTello,oworlC!\t0.7692307692307693\nGeneration #115:\tTello,xworlC!\t0.7692307692307693\nGeneration #116:\tDello,xworlC!\t0.7692307692307693\nGeneration #117:\tÑello,xworlC!\t0.7692307692307693\nGeneration #118:\tbello,xworlC!\t0.7692307692307693\nGeneration #119:\tbello,¡worlC!\t0.7692307692307693\nGeneration #120:\tbello,¡worla!\t0.7692307692307693\nGeneration #121:\t!ello,¡worla!\t0.7692307692307693\nGeneration #122:\t!ello,ñworla!\t0.7692307692307693\nGeneration #123:\tiello,ñworla!\t0.7692307692307693\nGeneration #124:\t¡ello,ñworla!\t0.7692307692307693\nGeneration #125:\t¡ello,ñworls!\t0.7692307692307693\nGeneration #126:\t¡ello,ñworlm!\t0.7692307692307693\nGeneration #127:\tmello,ñworlm!\t0.7692307692307693\nGeneration #128:\tMello,ñworlm!\t0.7692307692307693\nGeneration #129:\tMello,ñworlB!\t0.7692307692307693\nGeneration #130:\tMello,ñworlñ!\t0.7692307692307693\nGeneration #131:\tMello,ñworlk!\t0.7692307692307693\nGeneration #132:\tgello,ñworlk!\t0.7692307692307693\nGeneration #133:\tgello,ñworlg!\t0.7692307692307693\nGeneration #134:\tgello,Tworlg!\t0.7692307692307693\nGeneration #135:\tgello,Tworlg!\t0.7692307692307693\nGeneration #136:\tgello,Tworlp!\t0.7692307692307693\nGeneration #137:\tgello,qworlp!\t0.7692307692307693\nGeneration #138:\tgello,nworlp!\t0.7692307692307693\nGeneration #139:\tgello,nworlp!\t0.7692307692307693\nGeneration #140:\tbello,nworlp!\t0.7692307692307693\nGeneration #141:\tbello,nworlp!\t0.7692307692307693\nGeneration #142:\tbello,nworlp!\t0.7692307692307693\nGeneration #143:\taello,nworlp!\t0.7692307692307693\nGeneration #144:\taello,gworlp!\t0.7692307692307693\nGeneration #145:\tYello,gworlp!\t0.7692307692307693\nGeneration #146:\tYello,gworlc!\t0.7692307692307693\nYello, worlc! 0.8461538461538461\n"
        }
      ]
    },
    {
      "cell_type": "code",
      "execution_count": null,
      "metadata": {},
      "outputs": [],
      "source": []
    }
  ],
  "metadata": {
    "colab": {
      "name": "genetic-algorithms.ipynb",
      "provenance": [],
      "collapsed_sections": []
    },
    "kernelspec": {
      "name": "python3",
      "display_name": "Python 3"
    }
  },
  "nbformat": 4,
  "nbformat_minor": 0
}